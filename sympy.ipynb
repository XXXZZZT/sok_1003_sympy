{
 "cells": [
  {
   "cell_type": "markdown",
   "id": "44688bb4-1ac8-449d-8535-82e240a1f68f",
   "metadata": {
    "tags": []
   },
   "source": [
    "#15_Likningssett_innsettingsmetoden_oppgaver\n",
    "\n",
    "#Oppgave 1 a)"
   ]
  },
  {
   "cell_type": "code",
   "execution_count": 98,
   "id": "58f016f9-f47d-426e-97a9-b3434bf655b5",
   "metadata": {},
   "outputs": [
    {
     "data": {
      "text/latex": [
       "$\\displaystyle 2 x + 4 y = 6$"
      ],
      "text/plain": [
       "Eq(2*x + 4*y, 6)"
      ]
     },
     "metadata": {},
     "output_type": "display_data"
    },
    {
     "data": {
      "text/latex": [
       "$\\displaystyle - 2 x + y = 4$"
      ],
      "text/plain": [
       "Eq(-2*x + y, 4)"
      ]
     },
     "metadata": {},
     "output_type": "display_data"
    },
    {
     "data": {
      "text/latex": [
       "$\\displaystyle \\left[\\begin{matrix}2 & 4 & 6\\\\-2 & 1 & 4\\end{matrix}\\right]$"
      ],
      "text/plain": [
       "Matrix([\n",
       "[ 2, 4, 6],\n",
       "[-2, 1, 4]])"
      ]
     },
     "metadata": {},
     "output_type": "display_data"
    },
    {
     "data": {
      "text/plain": [
       "{x: -1, y: 2}"
      ]
     },
     "execution_count": 98,
     "metadata": {},
     "output_type": "execute_result"
    }
   ],
   "source": [
    "import sympy as sp\n",
    "\n",
    "from sympy import Eq,exp,solve_linear_system,Matrix,Function,solve,sqrt,ln,log,exp\n",
    "\n",
    "\n",
    "eq1 = sp.Function('eq1')\n",
    "eq2 = sp.Function('eq2')\n",
    "\n",
    "x,y = sp.symbols('x y')\n",
    "\n",
    "eq1 = Eq(2*x+4*y, 6)\n",
    "eq2 = Eq(-2*x+y,4)\n",
    "\n",
    "display(eq1)\n",
    "display(eq2)\n",
    "\n",
    "row1 = [2,+4,6]\n",
    "row2 = [-2,+1,4]\n",
    "\n",
    "system = Matrix((row1,row2))\n",
    "\n",
    "display(system)\n",
    "\n",
    "solve_linear_system(system,x,y)"
   ]
  },
  {
   "cell_type": "markdown",
   "id": "a70c93ac-5426-408a-8d30-d16312cc7220",
   "metadata": {},
   "source": [
    "#Oppgave 1b)"
   ]
  },
  {
   "cell_type": "code",
   "execution_count": 16,
   "id": "dec179f0-1d8b-4055-adc2-07c7ba4530c9",
   "metadata": {},
   "outputs": [
    {
     "data": {
      "text/latex": [
       "$\\displaystyle 2 x + 4 y = 6$"
      ],
      "text/plain": [
       "Eq(2*x + 4*y, 6)"
      ]
     },
     "metadata": {},
     "output_type": "display_data"
    },
    {
     "data": {
      "text/latex": [
       "$\\displaystyle - 2 x + y = 4$"
      ],
      "text/plain": [
       "Eq(-2*x + y, 4)"
      ]
     },
     "metadata": {},
     "output_type": "display_data"
    },
    {
     "data": {
      "text/latex": [
       "$\\displaystyle \\left[\\begin{matrix}2 & - y & -1\\\\x^{2} & x - y & 1\\end{matrix}\\right]$"
      ],
      "text/plain": [
       "Matrix([\n",
       "[   2,    -y, -1],\n",
       "[x**2, x - y,  1]])"
      ]
     },
     "metadata": {},
     "output_type": "display_data"
    },
    {
     "data": {
      "text/plain": [
       "[]"
      ]
     },
     "execution_count": 16,
     "metadata": {},
     "output_type": "execute_result"
    }
   ],
   "source": [
    "eq1 = sp.Function('eq1')\n",
    "eq2 = sp.Function('eq2')\n",
    "\n",
    "x,y = sp.symbols('x y')\n",
    "\n",
    "eq1 = Eq(2*x+4*y, 6)\n",
    "eq2 = Eq(-2*x+y,4)\n",
    "\n",
    "display(eq1)\n",
    "display(eq2)\n",
    "\n",
    "row1 = [2,-y, -1]\n",
    "row2 = [x**2,+x-y,1]\n",
    "\n",
    "system = Matrix((row1,row2))\n",
    "\n",
    "display(system)\n",
    "\n",
    "solve(x,y)"
   ]
  },
  {
   "cell_type": "markdown",
   "id": "62ce4124-db9c-4f3c-9be6-5fd206d3acce",
   "metadata": {},
   "source": [
    "#Oppgave 2a"
   ]
  },
  {
   "cell_type": "code",
   "execution_count": 20,
   "id": "62a7a3d3-3130-4a6c-85b0-2cccc17e0527",
   "metadata": {},
   "outputs": [
    {
     "data": {
      "text/plain": [
       "{x: 4, y: 0}"
      ]
     },
     "execution_count": 20,
     "metadata": {},
     "output_type": "execute_result"
    }
   ],
   "source": [
    "eq1 = sp.Function('eq1')\n",
    "eq2 = sp.Function('eq2')\n",
    "\n",
    "x,y = sp.symbols('x y')\n",
    "\n",
    "eq1 = Eq(3*x-12, -6*y)\n",
    "eq2 = Eq(4*x-8*y,16)\n",
    "\n",
    "\n",
    "solve((eq1,eq2), (x, y))"
   ]
  },
  {
   "cell_type": "markdown",
   "id": "17fbd31a-e8db-4bc5-8ad9-9a7ea283ed5c",
   "metadata": {},
   "source": [
    "#Oppgave 2b"
   ]
  },
  {
   "cell_type": "code",
   "execution_count": 21,
   "id": "ad76b2bb-abca-4182-89d9-99f65fba31ab",
   "metadata": {},
   "outputs": [
    {
     "data": {
      "text/plain": [
       "[(-15/2, 31/4), (2, 3)]"
      ]
     },
     "execution_count": 21,
     "metadata": {},
     "output_type": "execute_result"
    }
   ],
   "source": [
    "eq1 = sp.Function('eq1')\n",
    "eq2 = sp.Function('eq2')\n",
    "\n",
    "x,y = sp.symbols('x y')\n",
    "\n",
    "eq1 = Eq(x**2+4*x-3, 3*y)\n",
    "eq2 = Eq(2*y,8-x)\n",
    "\n",
    "\n",
    "solve((eq1,eq2), (x, y))"
   ]
  },
  {
   "cell_type": "markdown",
   "id": "6902cf03-aa47-48b7-8292-50ba2473c0b6",
   "metadata": {},
   "source": [
    "#16_Likningssett_addisjonsmetoden\n",
    "#Oppgave 1a"
   ]
  },
  {
   "cell_type": "code",
   "execution_count": 22,
   "id": "02344b3f-419d-4f69-a252-077a11964963",
   "metadata": {},
   "outputs": [
    {
     "data": {
      "text/plain": [
       "{x: 2, y: 2}"
      ]
     },
     "execution_count": 22,
     "metadata": {},
     "output_type": "execute_result"
    }
   ],
   "source": [
    "eq1 = sp.Function('eq1')\n",
    "eq2 = sp.Function('eq2')\n",
    "\n",
    "x,y = sp.symbols('x y')\n",
    "\n",
    "eq1 = Eq(4*x+2*y,12)\n",
    "eq2 = Eq(6*x-2*y,8)\n",
    "\n",
    "\n",
    "solve((eq1,eq2), (x, y))"
   ]
  },
  {
   "cell_type": "markdown",
   "id": "b769c3e7-60fd-4a6f-8c19-2d2e155afaf0",
   "metadata": {},
   "source": [
    "#Oppgave 1b"
   ]
  },
  {
   "cell_type": "code",
   "execution_count": 23,
   "id": "9d33566a-b9b4-4e9e-9967-889033b9089e",
   "metadata": {},
   "outputs": [
    {
     "data": {
      "text/plain": [
       "[(0, -5), (12, 1)]"
      ]
     },
     "execution_count": 23,
     "metadata": {},
     "output_type": "execute_result"
    }
   ],
   "source": [
    "eq1 = sp.Function('eq1')\n",
    "eq2 = sp.Function('eq2')\n",
    "\n",
    "x,y = sp.symbols('x y')\n",
    "\n",
    "eq1 = Eq(2*x+y**2, 25)\n",
    "eq2 = Eq(x-2*y,10)\n",
    "\n",
    "\n",
    "solve((eq1,eq2), (x, y))"
   ]
  },
  {
   "cell_type": "markdown",
   "id": "ce16dc58-0af1-4225-afb8-6cd5b3fd4e84",
   "metadata": {},
   "source": [
    "#Oppgave 2a"
   ]
  },
  {
   "cell_type": "code",
   "execution_count": 24,
   "id": "8c0ae8b1-3d2b-4fc2-973e-9bda60052f1f",
   "metadata": {},
   "outputs": [
    {
     "data": {
      "text/plain": [
       "{x: 4, y: 2}"
      ]
     },
     "execution_count": 24,
     "metadata": {},
     "output_type": "execute_result"
    }
   ],
   "source": [
    "eq1 = sp.Function('eq1')\n",
    "eq2 = sp.Function('eq2')\n",
    "\n",
    "x,y = sp.symbols('x y')\n",
    "\n",
    "eq1 = Eq(4*x-4*y,8)\n",
    "eq2 = Eq(9*x-5*y, 26)\n",
    "\n",
    "\n",
    "solve((eq1,eq2), (x, y))"
   ]
  },
  {
   "cell_type": "markdown",
   "id": "5a47c39f-e53d-4355-b429-57de3d15a0a1",
   "metadata": {},
   "source": [
    "#Oppgave 2b"
   ]
  },
  {
   "cell_type": "code",
   "execution_count": 25,
   "id": "e98cf135-c3ab-4c21-a668-568f4a292c4f",
   "metadata": {},
   "outputs": [
    {
     "data": {
      "text/plain": [
       "[(-9, -2*sqrt(3)), (-9, 2*sqrt(3)), (7, -2), (7, 2)]"
      ]
     },
     "execution_count": 25,
     "metadata": {},
     "output_type": "execute_result"
    }
   ],
   "source": [
    "eq1 = sp.Function('eq1')\n",
    "eq2 = sp.Function('eq2')\n",
    "\n",
    "x,y = sp.symbols('x y')\n",
    "\n",
    "eq1 = Eq(x+2*y**2,15)\n",
    "eq2 = Eq(x**2-4*y**2,33)\n",
    "\n",
    "\n",
    "solve((eq1,eq2), (x, y))"
   ]
  },
  {
   "cell_type": "markdown",
   "id": "7060e963-2c25-4e07-82aa-d96b95a96d3e",
   "metadata": {},
   "source": [
    "#17_Likningsett_faktoriseringssmetoden\n",
    "#Oppgave 1a"
   ]
  },
  {
   "cell_type": "code",
   "execution_count": 26,
   "id": "2238c126-43a2-4a38-9eff-24ead98c04bf",
   "metadata": {},
   "outputs": [
    {
     "data": {
      "text/plain": [
       "[(0, -4), (0, 4), (15, -1), (15, 1)]"
      ]
     },
     "execution_count": 26,
     "metadata": {},
     "output_type": "execute_result"
    }
   ],
   "source": [
    "eq1 = sp.Function('eq1')\n",
    "eq2 = sp.Function('eq2')\n",
    "\n",
    "x,y = sp.symbols('x y')\n",
    "\n",
    "eq1 = Eq(x*y**2-x,0)\n",
    "eq2 = Eq(x+y**2,16)\n",
    "\n",
    "\n",
    "solve((eq1,eq2), (x, y))"
   ]
  },
  {
   "cell_type": "markdown",
   "id": "ec7778a4-60fa-4bb1-b490-529eb866e70d",
   "metadata": {},
   "source": [
    "#b"
   ]
  },
  {
   "cell_type": "code",
   "execution_count": 27,
   "id": "0727ae6f-5da8-4e37-8dff-630e85c38db5",
   "metadata": {},
   "outputs": [
    {
     "data": {
      "text/plain": [
       "[(-10, 0), (-6, -8), (-6, 8), (6, -8), (6, 8), (10, 0)]"
      ]
     },
     "execution_count": 27,
     "metadata": {},
     "output_type": "execute_result"
    }
   ],
   "source": [
    "eq1 = sp.Function('eq1')\n",
    "eq2 = sp.Function('eq2')\n",
    "\n",
    "x,y = sp.symbols('x y')\n",
    "\n",
    "eq1 = Eq(x**2+y**2,100)\n",
    "eq2 = Eq(x**2*y-36*y,0)\n",
    "\n",
    "\n",
    "solve((eq1,eq2), (x, y))"
   ]
  },
  {
   "cell_type": "markdown",
   "id": "ee25638f-78d6-47a9-817b-b8c7a9071a7a",
   "metadata": {},
   "source": [
    "#Oppgave 2b"
   ]
  },
  {
   "cell_type": "code",
   "execution_count": 28,
   "id": "cb7fecb1-d351-4ff1-b429-d232e152d8b8",
   "metadata": {},
   "outputs": [
    {
     "data": {
      "text/plain": [
       "[(-3, -7), (-3, 7), (0, -sqrt(58)), (0, sqrt(58)), (3, -7), (3, 7)]"
      ]
     },
     "execution_count": 28,
     "metadata": {},
     "output_type": "execute_result"
    }
   ],
   "source": [
    "eq1 = sp.Function('eq1')\n",
    "eq2 = sp.Function('eq2')\n",
    "\n",
    "x,y = sp.symbols('x y')\n",
    "\n",
    "eq1 = Eq(x*y**2-49*x,0)\n",
    "eq2 = Eq(x**2+y**2,58)\n",
    "\n",
    "\n",
    "solve((eq1,eq2), (x, y))"
   ]
  },
  {
   "cell_type": "markdown",
   "id": "5d5f3952-5b12-4f00-95a0-b795188a51b4",
   "metadata": {},
   "source": [
    "#Oppgave 2b"
   ]
  },
  {
   "cell_type": "code",
   "execution_count": 29,
   "id": "1021e1ef-cb01-4f3b-858a-9206b2368a79",
   "metadata": {},
   "outputs": [
    {
     "data": {
      "text/plain": [
       "[(-1.11803398874989, 0.0),\n",
       " (-0.500000000000000, -1.00000000000000),\n",
       " (-0.500000000000000, 1.00000000000000),\n",
       " (1.11803398874989, 0.0)]"
      ]
     },
     "execution_count": 29,
     "metadata": {},
     "output_type": "execute_result"
    }
   ],
   "source": [
    "eq1 = sp.Function('eq1')\n",
    "eq2 = sp.Function('eq2')\n",
    "\n",
    "x,y = sp.symbols('x y')\n",
    "\n",
    "eq1 = Eq(x**2+y**2,5/4)\n",
    "eq2 = Eq(2*x*y+y,0)\n",
    "\n",
    "\n",
    "solve((eq1,eq2), (x, y))"
   ]
  },
  {
   "cell_type": "code",
   "execution_count": null,
   "id": "3501e25d-305e-4660-a9e8-2c7dc8a69fda",
   "metadata": {},
   "outputs": [],
   "source": [
    "#19_Grunnleggende derivasjonsregler\n",
    "#Oppgave 1a"
   ]
  },
  {
   "cell_type": "code",
   "execution_count": 3,
   "id": "80361832-7ef1-4d61-acd7-e26f83028daf",
   "metadata": {},
   "outputs": [
    {
     "data": {
      "text/latex": [
       "$\\displaystyle 5 x^{4}$"
      ],
      "text/plain": [
       "5*x**4"
      ]
     },
     "execution_count": 3,
     "metadata": {},
     "output_type": "execute_result"
    }
   ],
   "source": [
    "sp.diff(x**5)"
   ]
  },
  {
   "cell_type": "markdown",
   "id": "0b2be740-49b6-483f-a13c-d5b670ba7235",
   "metadata": {},
   "source": [
    "#1b"
   ]
  },
  {
   "cell_type": "code",
   "execution_count": 4,
   "id": "6bcdbe99-9cf0-4d83-964b-4d4249405ec7",
   "metadata": {},
   "outputs": [
    {
     "data": {
      "text/latex": [
       "$\\displaystyle 1$"
      ],
      "text/plain": [
       "1"
      ]
     },
     "execution_count": 4,
     "metadata": {},
     "output_type": "execute_result"
    }
   ],
   "source": [
    "sp.diff(x+12)"
   ]
  },
  {
   "cell_type": "markdown",
   "id": "31af3564-a0aa-4f52-aa9e-a9c225382987",
   "metadata": {},
   "source": [
    "#1c"
   ]
  },
  {
   "cell_type": "code",
   "execution_count": 5,
   "id": "d74d3925-67bc-44d6-a2a5-623a0b7493f8",
   "metadata": {},
   "outputs": [
    {
     "data": {
      "text/latex": [
       "$\\displaystyle 3 x^{2} + 8 x$"
      ],
      "text/plain": [
       "3*x**2 + 8*x"
      ]
     },
     "execution_count": 5,
     "metadata": {},
     "output_type": "execute_result"
    }
   ],
   "source": [
    "sp.diff(x**3+4*x**2)"
   ]
  },
  {
   "cell_type": "markdown",
   "id": "1a1704ce-10c1-495d-bfbf-b80991c937a3",
   "metadata": {},
   "source": [
    "#1d"
   ]
  },
  {
   "cell_type": "code",
   "execution_count": 13,
   "id": "2dc47dc5-af5e-42e8-9fe8-0240ad7f24b1",
   "metadata": {},
   "outputs": [
    {
     "data": {
      "text/latex": [
       "$\\displaystyle 6 x^{2}$"
      ],
      "text/plain": [
       "6*x**2"
      ]
     },
     "execution_count": 13,
     "metadata": {},
     "output_type": "execute_result"
    }
   ],
   "source": [
    "sp.diff(2*x**3+sqrt(36))"
   ]
  },
  {
   "cell_type": "markdown",
   "id": "54373032-1650-4ef9-9abb-c6c7361fb22e",
   "metadata": {},
   "source": [
    "#1e"
   ]
  },
  {
   "cell_type": "code",
   "execution_count": 14,
   "id": "effda0d2-29b8-477c-8a32-0232dc8eb005",
   "metadata": {},
   "outputs": [
    {
     "data": {
      "text/latex": [
       "$\\displaystyle \\frac{1}{2 \\sqrt{x}}$"
      ],
      "text/plain": [
       "1/(2*sqrt(x))"
      ]
     },
     "execution_count": 14,
     "metadata": {},
     "output_type": "execute_result"
    }
   ],
   "source": [
    "sp.diff(sqrt(x)+5**2)"
   ]
  },
  {
   "cell_type": "markdown",
   "id": "fd8ace7a-9e57-4bba-b481-19a6fd335387",
   "metadata": {},
   "source": [
    "#1f"
   ]
  },
  {
   "cell_type": "code",
   "execution_count": 15,
   "id": "ab41736f-8bab-49ce-95ac-7ebfcecfd314",
   "metadata": {},
   "outputs": [
    {
     "data": {
      "text/latex": [
       "$\\displaystyle 3 x^{2} - \\frac{1}{x^{2}}$"
      ],
      "text/plain": [
       "3*x**2 - 1/x**2"
      ]
     },
     "execution_count": 15,
     "metadata": {},
     "output_type": "execute_result"
    }
   ],
   "source": [
    "sp.diff(x**3+1/x)"
   ]
  },
  {
   "cell_type": "markdown",
   "id": "7effbab6-81e2-429c-ab2e-55d8a5c478fd",
   "metadata": {},
   "source": [
    "#1g"
   ]
  },
  {
   "cell_type": "code",
   "execution_count": 16,
   "id": "11965158-eba8-48de-933f-14b00fc73c2e",
   "metadata": {},
   "outputs": [
    {
     "data": {
      "text/latex": [
       "$\\displaystyle 3 x^{2} - 2 x + 0.25$"
      ],
      "text/plain": [
       "3*x**2 - 2*x + 0.25"
      ]
     },
     "execution_count": 16,
     "metadata": {},
     "output_type": "execute_result"
    }
   ],
   "source": [
    "sp.diff(x**3-x**2+1/4*x)"
   ]
  },
  {
   "cell_type": "markdown",
   "id": "22311530-3625-45fd-8863-30c6bf978dfe",
   "metadata": {},
   "source": [
    "#Oppgave 2\n",
    "#a"
   ]
  },
  {
   "cell_type": "code",
   "execution_count": 17,
   "id": "1451f447-c37a-4eb3-aacf-6c1587cb042f",
   "metadata": {},
   "outputs": [
    {
     "data": {
      "text/latex": [
       "$\\displaystyle 36 x^{5} - \\frac{1}{x^{2}}$"
      ],
      "text/plain": [
       "36*x**5 - 1/x**2"
      ]
     },
     "execution_count": 17,
     "metadata": {},
     "output_type": "execute_result"
    }
   ],
   "source": [
    "sp.diff(1/x+6*x**6)"
   ]
  },
  {
   "cell_type": "markdown",
   "id": "6541b862-27f6-4a0e-8b25-e4adf8944907",
   "metadata": {},
   "source": [
    "#b"
   ]
  },
  {
   "cell_type": "code",
   "execution_count": 18,
   "id": "b971a8d2-adef-4ce7-b654-93662ec3ac0b",
   "metadata": {},
   "outputs": [
    {
     "data": {
      "text/latex": [
       "$\\displaystyle 1.5 x^{2} - 1$"
      ],
      "text/plain": [
       "1.5*x**2 - 1"
      ]
     },
     "execution_count": 18,
     "metadata": {},
     "output_type": "execute_result"
    }
   ],
   "source": [
    "sp.diff(-x+1/2*x**3)"
   ]
  },
  {
   "cell_type": "markdown",
   "id": "6b514434-cfe7-4096-9ed0-0aa32e15ec4b",
   "metadata": {},
   "source": [
    "#c"
   ]
  },
  {
   "cell_type": "code",
   "execution_count": null,
   "id": "d9b13383-0c12-4a35-9667-a88c052907fd",
   "metadata": {},
   "outputs": [],
   "source": [
    "sp.diff((x**2+2*x-3))"
   ]
  },
  {
   "cell_type": "markdown",
   "id": "f31bb1ca-afc5-43cc-b06a-f305688d500f",
   "metadata": {},
   "source": [
    "#20_Produkt- og brøkreglen\n",
    "#Oppgave 1a"
   ]
  },
  {
   "cell_type": "code",
   "execution_count": null,
   "id": "da4fcebe-2d79-4ee5-bbc7-fbdc0108bd83",
   "metadata": {},
   "outputs": [],
   "source": [
    "sp.diff"
   ]
  },
  {
   "cell_type": "code",
   "execution_count": null,
   "id": "10e524d5-c783-4c77-ab65-cfd52d546db7",
   "metadata": {},
   "outputs": [],
   "source": [
    "#b"
   ]
  },
  {
   "cell_type": "code",
   "execution_count": null,
   "id": "1a5d1bc7-d2c4-4238-aaf4-46ef29216aa5",
   "metadata": {},
   "outputs": [],
   "source": []
  },
  {
   "cell_type": "code",
   "execution_count": null,
   "id": "e2487a0e-ad22-44bb-90fc-b95abf1bcf3a",
   "metadata": {},
   "outputs": [],
   "source": [
    "#c"
   ]
  },
  {
   "cell_type": "code",
   "execution_count": null,
   "id": "5579ce8e-3541-4692-9bf9-f9767db357f5",
   "metadata": {},
   "outputs": [],
   "source": []
  },
  {
   "cell_type": "code",
   "execution_count": null,
   "id": "729ef574-7452-47d4-af04-53d4648a3db7",
   "metadata": {},
   "outputs": [],
   "source": [
    "#d"
   ]
  },
  {
   "cell_type": "code",
   "execution_count": null,
   "id": "e0193ae3-568c-4894-a8d7-bc0afff34d7d",
   "metadata": {},
   "outputs": [],
   "source": []
  },
  {
   "cell_type": "markdown",
   "id": "e23213bb-b857-442e-b8aa-c84f6346515f",
   "metadata": {},
   "source": [
    "#e"
   ]
  },
  {
   "cell_type": "code",
   "execution_count": 23,
   "id": "cec95bee-3162-49d3-89fc-427cc7bc6f7e",
   "metadata": {},
   "outputs": [
    {
     "data": {
      "text/latex": [
       "$\\displaystyle 9 x^{8}$"
      ],
      "text/plain": [
       "9*x**8"
      ]
     },
     "execution_count": 23,
     "metadata": {},
     "output_type": "execute_result"
    }
   ],
   "source": [
    "sp.diff(x**4*x**5)"
   ]
  },
  {
   "cell_type": "markdown",
   "id": "4261dd2b-c62b-4433-b186-77dd9d6a0f4a",
   "metadata": {},
   "source": [
    "#f"
   ]
  },
  {
   "cell_type": "code",
   "execution_count": 24,
   "id": "3144c81d-c8ca-4ae4-a6ad-854161c84e35",
   "metadata": {},
   "outputs": [
    {
     "data": {
      "text/latex": [
       "$\\displaystyle \\frac{3 \\sqrt{x}}{2}$"
      ],
      "text/plain": [
       "3*sqrt(x)/2"
      ]
     },
     "execution_count": 24,
     "metadata": {},
     "output_type": "execute_result"
    }
   ],
   "source": [
    "sp.diff(x*sqrt(x))"
   ]
  },
  {
   "cell_type": "markdown",
   "id": "fce2110d-587c-46b9-aabd-dbb45192aff3",
   "metadata": {},
   "source": [
    "#g"
   ]
  },
  {
   "cell_type": "code",
   "execution_count": 25,
   "id": "b89c697c-bd0b-48a3-8725-6edf1666e974",
   "metadata": {},
   "outputs": [
    {
     "data": {
      "text/latex": [
       "$\\displaystyle - \\frac{6}{x^{4}}$"
      ],
      "text/plain": [
       "-6/x**4"
      ]
     },
     "execution_count": 25,
     "metadata": {},
     "output_type": "execute_result"
    }
   ],
   "source": [
    "sp.diff(2/x**3)"
   ]
  },
  {
   "cell_type": "markdown",
   "id": "696e151e-73cf-4df7-97a7-cac4ed8437e8",
   "metadata": {},
   "source": [
    "#h"
   ]
  },
  {
   "cell_type": "code",
   "execution_count": 26,
   "id": "b6241797-9380-4bf9-a82e-e14d9f6a7529",
   "metadata": {},
   "outputs": [
    {
     "data": {
      "text/latex": [
       "$\\displaystyle x^{2} - \\frac{2}{x^{3}}$"
      ],
      "text/plain": [
       "x**2 - 2/x**3"
      ]
     },
     "execution_count": 26,
     "metadata": {},
     "output_type": "execute_result"
    }
   ],
   "source": [
    "x**2-2/x**3"
   ]
  },
  {
   "cell_type": "markdown",
   "id": "7f49a204-d769-4b9a-874c-9deb55b7181d",
   "metadata": {},
   "source": [
    "#i"
   ]
  },
  {
   "cell_type": "code",
   "execution_count": 28,
   "id": "ca5923b0-360a-49ac-8dbb-6d1d2771b2aa",
   "metadata": {},
   "outputs": [
    {
     "data": {
      "text/latex": [
       "$\\displaystyle \\frac{13 x^{\\frac{11}{2}}}{2}$"
      ],
      "text/plain": [
       "13*x**(11/2)/2"
      ]
     },
     "execution_count": 28,
     "metadata": {},
     "output_type": "execute_result"
    }
   ],
   "source": [
    "sp.diff(sqrt(x)*x**6)"
   ]
  },
  {
   "cell_type": "markdown",
   "id": "f0657ec8-a8da-47a0-8872-e35330e7977e",
   "metadata": {},
   "source": [
    "#j"
   ]
  },
  {
   "cell_type": "code",
   "execution_count": 29,
   "id": "d9bb31fd-e4db-4134-b583-d2e04cf3cc68",
   "metadata": {},
   "outputs": [
    {
     "data": {
      "text/latex": [
       "$\\displaystyle 3 x^{2} + 1$"
      ],
      "text/plain": [
       "3*x**2 + 1"
      ]
     },
     "execution_count": 29,
     "metadata": {},
     "output_type": "execute_result"
    }
   ],
   "source": [
    "sp.diff(x*(x**2+1))"
   ]
  },
  {
   "cell_type": "markdown",
   "id": "beb8478b-6c89-4b04-8162-c3227659fb71",
   "metadata": {},
   "source": [
    "#k"
   ]
  },
  {
   "cell_type": "code",
   "execution_count": 30,
   "id": "31dcc6e0-b191-4342-ac8e-4d97f900a972",
   "metadata": {},
   "outputs": [
    {
     "data": {
      "text/latex": [
       "$\\displaystyle 2 x - \\frac{12}{x^{4}}$"
      ],
      "text/plain": [
       "2*x - 12/x**4"
      ]
     },
     "execution_count": 30,
     "metadata": {},
     "output_type": "execute_result"
    }
   ],
   "source": [
    "sp.diff(x**2+4/x**3-1)"
   ]
  },
  {
   "cell_type": "markdown",
   "id": "77fed49b-2f5e-425e-b4ba-a3de9ee71712",
   "metadata": {},
   "source": [
    "#l"
   ]
  },
  {
   "cell_type": "code",
   "execution_count": 31,
   "id": "caf19f15-8158-457e-907b-212d32cd2c06",
   "metadata": {},
   "outputs": [
    {
     "data": {
      "text/latex": [
       "$\\displaystyle 2$"
      ],
      "text/plain": [
       "2"
      ]
     },
     "execution_count": 31,
     "metadata": {},
     "output_type": "execute_result"
    }
   ],
   "source": [
    "sp.diff(x**2/x**2+2*x)"
   ]
  },
  {
   "cell_type": "markdown",
   "id": "fda350de-cb73-4775-98b3-d6e22bb6b914",
   "metadata": {},
   "source": [
    "#m"
   ]
  },
  {
   "cell_type": "code",
   "execution_count": 32,
   "id": "94c87324-796a-43f5-b863-9ea795bb70be",
   "metadata": {},
   "outputs": [
    {
     "data": {
      "text/latex": [
       "$\\displaystyle 2 x + 4 - \\frac{2}{x^{2}}$"
      ],
      "text/plain": [
       "2*x + 4 - 2/x**2"
      ]
     },
     "execution_count": 32,
     "metadata": {},
     "output_type": "execute_result"
    }
   ],
   "source": [
    "sp.diff(x**2+4*x+2/x-2)"
   ]
  },
  {
   "cell_type": "markdown",
   "id": "61872a2d-1fdf-4807-b4ec-0ab51621c3c1",
   "metadata": {},
   "source": [
    "#oppgave 2\n",
    "#a"
   ]
  },
  {
   "cell_type": "code",
   "execution_count": 33,
   "id": "e38126d1-8e45-469e-89f0-3cecc7142fe5",
   "metadata": {},
   "outputs": [
    {
     "data": {
      "text/latex": [
       "$\\displaystyle 3 x^{2} + \\frac{2}{x^{2}}$"
      ],
      "text/plain": [
       "3*x**2 + 2/x**2"
      ]
     },
     "execution_count": 33,
     "metadata": {},
     "output_type": "execute_result"
    }
   ],
   "source": [
    "sp.diff(x**3-2*x/x**2-1)"
   ]
  },
  {
   "cell_type": "markdown",
   "id": "650c2fcf-eec9-43c4-83f3-81ad30b068b6",
   "metadata": {},
   "source": [
    "#b"
   ]
  },
  {
   "cell_type": "code",
   "execution_count": 41,
   "id": "fe4787b4-108a-43fa-9307-eb67268fae07",
   "metadata": {},
   "outputs": [
    {
     "data": {
      "text/plain": [
       "(2*x, x**2 - 1)"
      ]
     },
     "execution_count": 41,
     "metadata": {},
     "output_type": "execute_result"
    }
   ],
   "source": [
    "sp.diff(x**2+1),(x**2-1)"
   ]
  },
  {
   "cell_type": "markdown",
   "id": "bcc9e229-1e34-4a8c-816d-4c25befefb59",
   "metadata": {},
   "source": [
    "#c"
   ]
  },
  {
   "cell_type": "code",
   "execution_count": 42,
   "id": "3edac70b-1751-4cab-a1f9-3657ee927fc6",
   "metadata": {},
   "outputs": [
    {
     "data": {
      "text/latex": [
       "$\\displaystyle 3 + \\frac{12}{x^{4}}$"
      ],
      "text/plain": [
       "3 + 12/x**4"
      ]
     },
     "execution_count": 42,
     "metadata": {},
     "output_type": "execute_result"
    }
   ],
   "source": [
    "sp.diff(3*x-4/x**3+7)"
   ]
  },
  {
   "cell_type": "markdown",
   "id": "30f74b7c-55aa-4a98-94fc-ef5d95fe0111",
   "metadata": {},
   "source": [
    "#21_Kjernereglen\n",
    "#Oppave 1a"
   ]
  },
  {
   "cell_type": "code",
   "execution_count": 48,
   "id": "cc3b9e7a-b872-4deb-b620-ebfc070f3fa7",
   "metadata": {},
   "outputs": [
    {
     "data": {
      "text/plain": [
       "(<function sympy.core.function.diff(f, *symbols, **kwargs)>,\n",
       " log(x**3 + 6*x)**5)"
      ]
     },
     "execution_count": 48,
     "metadata": {},
     "output_type": "execute_result"
    }
   ],
   "source": [
    "sp.diff,sp.log(x**3+6*x)**5"
   ]
  },
  {
   "cell_type": "markdown",
   "id": "f5062212-7ba3-4d26-95e2-1becd5e1f4f7",
   "metadata": {},
   "source": [
    "#b"
   ]
  },
  {
   "cell_type": "code",
   "execution_count": 50,
   "id": "53e13f7f-4eea-4e03-bd77-797c3db9da30",
   "metadata": {},
   "outputs": [
    {
     "data": {
      "text/latex": [
       "$\\displaystyle \\frac{2 x}{\\sqrt{2 x^{2} + 5}}$"
      ],
      "text/plain": [
       "2*x/sqrt(2*x**2 + 5)"
      ]
     },
     "execution_count": 50,
     "metadata": {},
     "output_type": "execute_result"
    }
   ],
   "source": [
    "sp.diff(sqrt(2*x**2+5))"
   ]
  },
  {
   "cell_type": "markdown",
   "id": "29955e86-fce4-43c3-8b7c-c9e8f79f369e",
   "metadata": {},
   "source": [
    "#c"
   ]
  },
  {
   "cell_type": "code",
   "execution_count": 56,
   "id": "fae04c3c-f08c-4112-9ce6-b0e86299f544",
   "metadata": {},
   "outputs": [
    {
     "data": {
      "text/latex": [
       "$\\displaystyle \\frac{16}{x^{8}}$"
      ],
      "text/plain": [
       "16/x**8"
      ]
     },
     "execution_count": 56,
     "metadata": {},
     "output_type": "execute_result"
    }
   ],
   "source": [
    "sp.diff(2*x/x**2+3)**4"
   ]
  },
  {
   "cell_type": "markdown",
   "id": "eb7e198c-fb5c-4c1c-a08d-109ec3c529ff",
   "metadata": {},
   "source": [
    "#d"
   ]
  },
  {
   "cell_type": "code",
   "execution_count": 57,
   "id": "17812dbd-f09a-4fa7-bc5b-d9eaef54b9d8",
   "metadata": {},
   "outputs": [
    {
     "data": {
      "text/latex": [
       "$\\displaystyle 12 x^{3} \\left(2 x^{4} + 9\\right)^{2}$"
      ],
      "text/plain": [
       "12*x**3*(2*x**4 + 9)**2"
      ]
     },
     "execution_count": 57,
     "metadata": {},
     "output_type": "execute_result"
    }
   ],
   "source": [
    "sp.diff((2*x**4+9)**3/2)"
   ]
  },
  {
   "cell_type": "markdown",
   "id": "478bbcfa-5268-4082-8710-3cdbef4055d8",
   "metadata": {},
   "source": [
    "#e"
   ]
  },
  {
   "cell_type": "code",
   "execution_count": 58,
   "id": "81e3bee2-94b7-417a-9143-d8b9cb10d0ac",
   "metadata": {},
   "outputs": [
    {
     "data": {
      "text/latex": [
       "$\\displaystyle - \\frac{x}{\\left(x^{2} + 1\\right)^{\\frac{3}{2}}}$"
      ],
      "text/plain": [
       "-x/(x**2 + 1)**(3/2)"
      ]
     },
     "execution_count": 58,
     "metadata": {},
     "output_type": "execute_result"
    }
   ],
   "source": [
    "sp.diff(1/sqrt(1+x**2))"
   ]
  },
  {
   "cell_type": "markdown",
   "id": "55cf98d0-2209-418b-bb84-4f4c11021dfd",
   "metadata": {},
   "source": [
    "#f"
   ]
  },
  {
   "cell_type": "code",
   "execution_count": 70,
   "id": "8ab2a2f2-8627-4073-8659-fd870786322a",
   "metadata": {},
   "outputs": [
    {
     "ename": "SyntaxError",
     "evalue": "invalid syntax (1683956221.py, line 1)",
     "output_type": "error",
     "traceback": [
      "\u001b[0;36m  File \u001b[0;32m\"/tmp/ipykernel_46089/1683956221.py\"\u001b[0;36m, line \u001b[0;32m1\u001b[0m\n\u001b[0;31m    sp.diff(x**2*(x**2+2x))**3\u001b[0m\n\u001b[0m                        ^\u001b[0m\n\u001b[0;31mSyntaxError\u001b[0m\u001b[0;31m:\u001b[0m invalid syntax\n"
     ]
    }
   ],
   "source": [
    "sp.diff(x**2*(x**2+2x))**3"
   ]
  },
  {
   "cell_type": "markdown",
   "id": "7d2a6959-0ad7-4a14-9fa6-9143387adb25",
   "metadata": {},
   "source": [
    "#g"
   ]
  },
  {
   "cell_type": "code",
   "execution_count": 71,
   "id": "bd55a94a-8946-45bf-a928-09ca765b0cad",
   "metadata": {},
   "outputs": [
    {
     "data": {
      "text/latex": [
       "$\\displaystyle \\frac{x^{2} \\left(x - 1\\right)}{\\sqrt{x^{2} - 2 x}} + 2 x \\sqrt{x^{2} - 2 x}$"
      ],
      "text/plain": [
       "x**2*(x - 1)/sqrt(x**2 - 2*x) + 2*x*sqrt(x**2 - 2*x)"
      ]
     },
     "execution_count": 71,
     "metadata": {},
     "output_type": "execute_result"
    }
   ],
   "source": [
    "sp.diff(x**2*sqrt(x**2-2*x))"
   ]
  },
  {
   "cell_type": "markdown",
   "id": "8eec0623-5888-4b9b-87a4-08f32afc6ac3",
   "metadata": {},
   "source": [
    "#h"
   ]
  },
  {
   "cell_type": "code",
   "execution_count": 72,
   "id": "465f00cb-d2b7-4d38-bca2-7c466da99ea7",
   "metadata": {},
   "outputs": [
    {
     "data": {
      "text/latex": [
       "$\\displaystyle \\frac{x^{2} \\left(- 6 x - 3\\right)}{\\left(x^{2} + x\\right)^{4}} + \\frac{2 x}{\\left(x^{2} + x\\right)^{3}}$"
      ],
      "text/plain": [
       "x**2*(-6*x - 3)/(x**2 + x)**4 + 2*x/(x**2 + x)**3"
      ]
     },
     "execution_count": 72,
     "metadata": {},
     "output_type": "execute_result"
    }
   ],
   "source": [
    "sp.diff(x**2/(x**2+x)**3)"
   ]
  },
  {
   "cell_type": "markdown",
   "id": "ea6e0925-eb08-409c-9da8-9421555d0223",
   "metadata": {},
   "source": [
    "#i"
   ]
  },
  {
   "cell_type": "code",
   "execution_count": 73,
   "id": "b71560cc-a662-4c19-a962-e820c4035750",
   "metadata": {},
   "outputs": [
    {
     "data": {
      "text/latex": [
       "$\\displaystyle 4 x^{2} \\left(x^{3} + 1\\right)^{3}$"
      ],
      "text/plain": [
       "4*x**2*(x**3 + 1)**3"
      ]
     },
     "execution_count": 73,
     "metadata": {},
     "output_type": "execute_result"
    }
   ],
   "source": [
    "sp.diff(x**2+1)**2*(x**3+1)**3"
   ]
  },
  {
   "cell_type": "markdown",
   "id": "4d4d3bb6-4dc5-414d-80a3-1485f8b33364",
   "metadata": {},
   "source": [
    "#Oppgave 2\n",
    "#a"
   ]
  },
  {
   "cell_type": "code",
   "execution_count": 74,
   "id": "10fa3966-b1b5-41fe-bd0a-a78dc31a6fec",
   "metadata": {},
   "outputs": [
    {
     "data": {
      "text/latex": [
       "$\\displaystyle \\left(12 x + 4\\right) \\left(3 x^{2} + 2 x\\right)$"
      ],
      "text/plain": [
       "(12*x + 4)*(3*x**2 + 2*x)"
      ]
     },
     "execution_count": 74,
     "metadata": {},
     "output_type": "execute_result"
    }
   ],
   "source": [
    "sp.diff(sqrt(3*x**2+2*x)**4)"
   ]
  },
  {
   "cell_type": "markdown",
   "id": "43991355-3ac1-475a-88d6-c4e42e202ac8",
   "metadata": {},
   "source": [
    "#b"
   ]
  },
  {
   "cell_type": "code",
   "execution_count": 75,
   "id": "428ce6eb-92aa-4413-bc21-0b15dc5d3f86",
   "metadata": {},
   "outputs": [
    {
     "data": {
      "text/latex": [
       "$\\displaystyle 243 x^{10} \\left(x^{2} + 3\\right)^{4}$"
      ],
      "text/plain": [
       "243*x**10*(x**2 + 3)**4"
      ]
     },
     "execution_count": 75,
     "metadata": {},
     "output_type": "execute_result"
    }
   ],
   "source": [
    "sp.diff(x**3+3)**5*(x**2+3)**4"
   ]
  },
  {
   "cell_type": "markdown",
   "id": "aa00c759-1ba1-4be4-8f84-e573e709bd81",
   "metadata": {},
   "source": [
    "#c"
   ]
  },
  {
   "cell_type": "code",
   "execution_count": 76,
   "id": "da887f58-588b-48c8-a987-fe669cc234f4",
   "metadata": {},
   "outputs": [
    {
     "data": {
      "text/latex": [
       "$\\displaystyle \\frac{\\sqrt{2} \\sqrt{x^{2}}}{x}$"
      ],
      "text/plain": [
       "sqrt(2)*sqrt(x**2)/x"
      ]
     },
     "execution_count": 76,
     "metadata": {},
     "output_type": "execute_result"
    }
   ],
   "source": [
    "sp.diff(sqrt(x**2+1*x**2))"
   ]
  },
  {
   "cell_type": "markdown",
   "id": "af22abf5-f3c3-4bdc-a3b4-316a96d5957a",
   "metadata": {},
   "source": [
    "#d"
   ]
  },
  {
   "cell_type": "code",
   "execution_count": 77,
   "id": "9f258c94-d5bb-4774-ac60-fb1073ef9996",
   "metadata": {},
   "outputs": [
    {
     "data": {
      "text/latex": [
       "$\\displaystyle \\frac{\\left(6 x + 2\\right)^{3}}{x^{2}}$"
      ],
      "text/plain": [
       "(6*x + 2)**3/x**2"
      ]
     },
     "execution_count": 77,
     "metadata": {},
     "output_type": "execute_result"
    }
   ],
   "source": [
    "sp.diff(2*x+3*x**2)**3/x**2"
   ]
  },
  {
   "cell_type": "markdown",
   "id": "e411fd5a-a14a-4578-adf6-3813f3436d22",
   "metadata": {},
   "source": [
    "#e"
   ]
  },
  {
   "cell_type": "code",
   "execution_count": 86,
   "id": "5fa05aba-e375-483c-8dff-c885679b6dff",
   "metadata": {},
   "outputs": [
    {
     "data": {
      "text/latex": [
       "$\\displaystyle \\frac{2 x^{3}}{\\sqrt{x^{4} - 5}}$"
      ],
      "text/plain": [
       "2*x**3/sqrt(x**4 - 5)"
      ]
     },
     "execution_count": 86,
     "metadata": {},
     "output_type": "execute_result"
    }
   ],
   "source": [
    "sp.diff(sqrt(x**4-5))"
   ]
  },
  {
   "cell_type": "markdown",
   "id": "275d0ae9-9e4f-42a4-acfe-afc97ce235b8",
   "metadata": {},
   "source": [
    "#f"
   ]
  },
  {
   "cell_type": "code",
   "execution_count": 87,
   "id": "18ddb3f2-f4fc-419c-9bd9-89a137235b12",
   "metadata": {},
   "outputs": [
    {
     "data": {
      "text/latex": [
       "$\\displaystyle - \\frac{2 x^{6}}{\\left(x^{4} - 1\\right)^{\\frac{3}{2}}} + \\frac{3 x^{2}}{\\sqrt{x^{4} - 1}}$"
      ],
      "text/plain": [
       "-2*x**6/(x**4 - 1)**(3/2) + 3*x**2/sqrt(x**4 - 1)"
      ]
     },
     "execution_count": 87,
     "metadata": {},
     "output_type": "execute_result"
    }
   ],
   "source": [
    "sp.diff(x**3/sqrt(x**4-1))"
   ]
  },
  {
   "cell_type": "markdown",
   "id": "616cb955-e754-4b29-9964-9bd0e10aeeb5",
   "metadata": {},
   "source": [
    "#22_Derivasjon_av_logartime_og_eksponetialfunksjon\n",
    "#Oppgave 1a"
   ]
  },
  {
   "cell_type": "code",
   "execution_count": 100,
   "id": "12c56725-d078-4380-ae3c-c54201b5bf2d",
   "metadata": {},
   "outputs": [
    {
     "data": {
      "text/latex": [
       "$\\displaystyle \\frac{1}{x}$"
      ],
      "text/plain": [
       "1/x"
      ]
     },
     "execution_count": 100,
     "metadata": {},
     "output_type": "execute_result"
    }
   ],
   "source": [
    "sp.diff(ln(5*x))"
   ]
  },
  {
   "cell_type": "markdown",
   "id": "b0aefe19-b56e-4fd0-8567-417d10c23c5a",
   "metadata": {},
   "source": [
    "#b"
   ]
  },
  {
   "cell_type": "code",
   "execution_count": 101,
   "id": "4b756324-c3ee-40b0-b92b-4c94b48ec68f",
   "metadata": {},
   "outputs": [
    {
     "data": {
      "text/latex": [
       "$\\displaystyle - 2 e^{- 2 x}$"
      ],
      "text/plain": [
       "-2*exp(-2*x)"
      ]
     },
     "execution_count": 101,
     "metadata": {},
     "output_type": "execute_result"
    }
   ],
   "source": [
    "sp.diff(exp(-2*x))"
   ]
  },
  {
   "cell_type": "markdown",
   "id": "2f7c073b-6385-4b70-8a08-b0a8fde7655e",
   "metadata": {},
   "source": [
    "#c"
   ]
  },
  {
   "cell_type": "code",
   "execution_count": 102,
   "id": "550280c3-b021-45fd-ab3e-d711cfd87806",
   "metadata": {},
   "outputs": [
    {
     "data": {
      "text/latex": [
       "$\\displaystyle \\frac{1}{x}$"
      ],
      "text/plain": [
       "1/x"
      ]
     },
     "execution_count": 102,
     "metadata": {},
     "output_type": "execute_result"
    }
   ],
   "source": [
    "sp.diff(ln(12*x)-3)"
   ]
  },
  {
   "cell_type": "markdown",
   "id": "3098cc01-33e3-41df-be1d-ddeb29c39e78",
   "metadata": {},
   "source": [
    "#d"
   ]
  },
  {
   "cell_type": "code",
   "execution_count": 103,
   "id": "5738551d-883f-4c2f-95d3-7bc267978837",
   "metadata": {},
   "outputs": [
    {
     "data": {
      "text/latex": [
       "$\\displaystyle 2^{x} \\log{\\left(2 \\right)}$"
      ],
      "text/plain": [
       "2**x*log(2)"
      ]
     },
     "execution_count": 103,
     "metadata": {},
     "output_type": "execute_result"
    }
   ],
   "source": [
    "sp.diff(2**x)"
   ]
  },
  {
   "cell_type": "markdown",
   "id": "c2d9151b-756e-44ff-aba2-bfbcfe9287a2",
   "metadata": {},
   "source": [
    "#e"
   ]
  },
  {
   "cell_type": "code",
   "execution_count": 106,
   "id": "1be4c42b-9e71-4f68-a529-d915b3bc7140",
   "metadata": {},
   "outputs": [
    {
     "data": {
      "text/latex": [
       "$\\displaystyle 3 e^{3 x + 5}$"
      ],
      "text/plain": [
       "3*exp(3*x + 5)"
      ]
     },
     "execution_count": 106,
     "metadata": {},
     "output_type": "execute_result"
    }
   ],
   "source": [
    "sp.diff(exp(3*x+5))"
   ]
  },
  {
   "cell_type": "markdown",
   "id": "928f4f3a-f4a4-4529-be2a-f364b0326993",
   "metadata": {},
   "source": [
    "#f"
   ]
  },
  {
   "cell_type": "code",
   "execution_count": 107,
   "id": "b05e4a69-e646-42c5-bfd5-6cf945bcd3e5",
   "metadata": {},
   "outputs": [
    {
     "data": {
      "text/latex": [
       "$\\displaystyle \\frac{5 x^{4}}{x^{5} + 1}$"
      ],
      "text/plain": [
       "5*x**4/(x**5 + 1)"
      ]
     },
     "execution_count": 107,
     "metadata": {},
     "output_type": "execute_result"
    }
   ],
   "source": [
    "sp.diff(ln(x**5+1))"
   ]
  },
  {
   "cell_type": "markdown",
   "id": "81e27c44-e1c7-4149-a9d2-0006b0f71cff",
   "metadata": {},
   "source": [
    "#g"
   ]
  },
  {
   "cell_type": "code",
   "execution_count": 108,
   "id": "d008d3c1-484d-48b2-84bd-758dd80fae88",
   "metadata": {},
   "outputs": [
    {
     "data": {
      "text/latex": [
       "$\\displaystyle \\left(8 x + 8\\right) e^{4 x^{2} + 8 x}$"
      ],
      "text/plain": [
       "(8*x + 8)*exp(4*x**2 + 8*x)"
      ]
     },
     "execution_count": 108,
     "metadata": {},
     "output_type": "execute_result"
    }
   ],
   "source": [
    "sp.diff(exp(4*x**2+8*x))"
   ]
  },
  {
   "cell_type": "markdown",
   "id": "28d227ab-b987-4c52-8324-ac464687bfe6",
   "metadata": {},
   "source": [
    "#h"
   ]
  },
  {
   "cell_type": "code",
   "execution_count": 109,
   "id": "f45f5549-9765-42e4-84a6-49672baf32dd",
   "metadata": {},
   "outputs": [
    {
     "data": {
      "text/latex": [
       "$\\displaystyle - \\frac{1}{x}$"
      ],
      "text/plain": [
       "-1/x"
      ]
     },
     "execution_count": 109,
     "metadata": {},
     "output_type": "execute_result"
    }
   ],
   "source": [
    "sp.diff(ln(1/x))"
   ]
  },
  {
   "cell_type": "markdown",
   "id": "0a6e79d9-6522-49c4-9a3a-87e4aec10378",
   "metadata": {},
   "source": [
    "#i"
   ]
  },
  {
   "cell_type": "code",
   "execution_count": 110,
   "id": "ccdc3e20-51a4-47e9-bd6f-bb8e415174f4",
   "metadata": {},
   "outputs": [
    {
     "data": {
      "text/latex": [
       "$\\displaystyle 12 e^{4 x} + \\frac{6}{x}$"
      ],
      "text/plain": [
       "12*exp(4*x) + 6/x"
      ]
     },
     "execution_count": 110,
     "metadata": {},
     "output_type": "execute_result"
    }
   ],
   "source": [
    "sp.diff(6*ln(x)+3*exp(4*x))"
   ]
  },
  {
   "cell_type": "markdown",
   "id": "f424552b-932d-45f6-a1d1-810d6c9a7b5f",
   "metadata": {},
   "source": [
    "#j"
   ]
  },
  {
   "cell_type": "code",
   "execution_count": 111,
   "id": "4e6bc654-cba0-46c8-8525-c271888b3a96",
   "metadata": {},
   "outputs": [
    {
     "data": {
      "text/latex": [
       "$\\displaystyle - x e^{- x} + e^{- x}$"
      ],
      "text/plain": [
       "-x*exp(-x) + exp(-x)"
      ]
     },
     "execution_count": 111,
     "metadata": {},
     "output_type": "execute_result"
    }
   ],
   "source": [
    "sp.diff(x*exp(-x))"
   ]
  },
  {
   "cell_type": "markdown",
   "id": "9560b45e-ef13-40e1-a431-6729d16e4c52",
   "metadata": {},
   "source": [
    "#k"
   ]
  },
  {
   "cell_type": "code",
   "execution_count": 112,
   "id": "03967715-cf48-4b7c-ba8f-765dfdce7b58",
   "metadata": {},
   "outputs": [
    {
     "data": {
      "text/latex": [
       "$\\displaystyle \\frac{2 x^{3}}{x^{2} + 2} + 2 x \\log{\\left(x^{2} + 2 \\right)}$"
      ],
      "text/plain": [
       "2*x**3/(x**2 + 2) + 2*x*log(x**2 + 2)"
      ]
     },
     "execution_count": 112,
     "metadata": {},
     "output_type": "execute_result"
    }
   ],
   "source": [
    "sp.diff(x**2*ln(x**2+2))"
   ]
  },
  {
   "cell_type": "markdown",
   "id": "eb14d2e1-97a0-4a83-81b3-f2f5aa5f081f",
   "metadata": {},
   "source": [
    "#Oppgave 2\n",
    "#a"
   ]
  },
  {
   "cell_type": "code",
   "execution_count": 113,
   "id": "a3f5f27d-b287-41fe-9b46-c5b53d844ceb",
   "metadata": {},
   "outputs": [
    {
     "data": {
      "text/latex": [
       "$\\displaystyle 2 x^{3} e^{2 x} + 3 x^{2} e^{2 x}$"
      ],
      "text/plain": [
       "2*x**3*exp(2*x) + 3*x**2*exp(2*x)"
      ]
     },
     "execution_count": 113,
     "metadata": {},
     "output_type": "execute_result"
    }
   ],
   "source": [
    "sp.diff(x**3*exp(2*x))"
   ]
  },
  {
   "cell_type": "markdown",
   "id": "02a60e29-9855-4003-8f5a-335503061017",
   "metadata": {},
   "source": [
    "#b"
   ]
  },
  {
   "cell_type": "code",
   "execution_count": 114,
   "id": "91c5ada1-91ca-4d45-b21f-15a5df0a3024",
   "metadata": {},
   "outputs": [
    {
     "data": {
      "text/latex": [
       "$\\displaystyle \\frac{\\left(x^{2} + 1\\right) \\left(- \\frac{2 x \\left(x^{2} - 1\\right)}{\\left(x^{2} + 1\\right)^{2}} + \\frac{2 x}{x^{2} + 1}\\right)}{x^{2} - 1}$"
      ],
      "text/plain": [
       "(x**2 + 1)*(-2*x*(x**2 - 1)/(x**2 + 1)**2 + 2*x/(x**2 + 1))/(x**2 - 1)"
      ]
     },
     "execution_count": 114,
     "metadata": {},
     "output_type": "execute_result"
    }
   ],
   "source": [
    "sp.diff(ln((x**2-1)/(x**2+1)))"
   ]
  },
  {
   "cell_type": "markdown",
   "id": "2cedb052-b4d2-48dd-8a5a-e38d009a3740",
   "metadata": {},
   "source": [
    "#c"
   ]
  },
  {
   "cell_type": "code",
   "execution_count": 115,
   "id": "e08cefeb-7317-4b57-a13e-e21d90a1b654",
   "metadata": {},
   "outputs": [
    {
     "data": {
      "text/latex": [
       "$\\displaystyle \\frac{2 x^{3}}{x^{2} + 2} + 2 x \\log{\\left(x^{2} + 2 \\right)}$"
      ],
      "text/plain": [
       "2*x**3/(x**2 + 2) + 2*x*log(x**2 + 2)"
      ]
     },
     "execution_count": 115,
     "metadata": {},
     "output_type": "execute_result"
    }
   ],
   "source": [
    "sp.diff(x**2*ln(x**2+2))"
   ]
  },
  {
   "cell_type": "markdown",
   "id": "b2b6bcbe-f44c-4280-a6f0-7dd08101897f",
   "metadata": {},
   "source": [
    "#d"
   ]
  },
  {
   "cell_type": "code",
   "execution_count": 117,
   "id": "9e2878a8-2818-415f-931b-8618e25601f6",
   "metadata": {},
   "outputs": [
    {
     "data": {
      "text/latex": [
       "$\\displaystyle - \\frac{e^{- x}}{x^{2}} - \\frac{2 e^{- x}}{x^{3}}$"
      ],
      "text/plain": [
       "-exp(-x)/x**2 - 2*exp(-x)/x**3"
      ]
     },
     "execution_count": 117,
     "metadata": {},
     "output_type": "execute_result"
    }
   ],
   "source": [
    "sp.diff(exp(-x)/x**2+1)"
   ]
  },
  {
   "cell_type": "code",
   "execution_count": null,
   "id": "1d5e4109-c90c-43b8-82a4-9b905920d4b5",
   "metadata": {},
   "outputs": [],
   "source": []
  },
  {
   "cell_type": "code",
   "execution_count": null,
   "id": "e2b95d6d-06a2-4915-bab2-5dfc857a173d",
   "metadata": {},
   "outputs": [],
   "source": []
  }
 ],
 "metadata": {
  "kernelspec": {
   "display_name": "Python 3 (ipykernel)",
   "language": "python",
   "name": "python3"
  },
  "language_info": {
   "codemirror_mode": {
    "name": "ipython",
    "version": 3
   },
   "file_extension": ".py",
   "mimetype": "text/x-python",
   "name": "python",
   "nbconvert_exporter": "python",
   "pygments_lexer": "ipython3",
   "version": "3.9.5"
  }
 },
 "nbformat": 4,
 "nbformat_minor": 5
}
